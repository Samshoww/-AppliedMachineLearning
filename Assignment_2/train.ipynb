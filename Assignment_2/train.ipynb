{
 "cells": [
  {
   "cell_type": "code",
   "execution_count": 1,
   "metadata": {},
   "outputs": [],
   "source": [
    "import pandas as pd\n",
    "from sklearn.model_selection import train_test_split\n",
    "from sklearn.feature_extraction.text import TfidfVectorizer\n",
    "from sklearn.preprocessing import LabelEncoder\n",
    "\n",
    "# Load the dataset\n",
    "train = pd.read_csv(\"train.csv\")\n",
    "test = pd.read_csv(\"test.csv\")\n",
    "\n",
    "# Encode labels: spam = 1, ham = 0\n",
    "label_encoder = LabelEncoder()\n",
    "train[\"Label\"] = label_encoder.fit_transform(train[\"Label\"])\n",
    "test[\"Label\"] = label_encoder.transform(test[\"Label\"])\n",
    "\n",
    "# Convert text into TF-IDF vectors\n",
    "vectorizer = TfidfVectorizer(max_features=5000)\n",
    "X_train = vectorizer.fit_transform(train[\"Message\"])\n",
    "X_test = vectorizer.transform(test[\"Message\"])\n",
    "y_train = train[\"Label\"]\n",
    "y_test = test[\"Label\"]"
   ]
  },
  {
   "cell_type": "code",
   "execution_count": 2,
   "metadata": {},
   "outputs": [
    {
     "name": "stderr",
     "output_type": "stream",
     "text": [
      "2025/03/07 18:59:08 INFO mlflow.tracking.fluent: Experiment with name 'SMS_Spam_Classification' does not exist. Creating a new experiment.\n",
      "2025/03/07 18:59:19 WARNING mlflow.models.model: Model logged without a signature and input example. Please set `input_example` parameter when logging the model to auto infer the model signature.\n"
     ]
    },
    {
     "name": "stdout",
     "output_type": "stream",
     "text": [
      "Model Logistic_Regression logged with AUCPR: 0.9585\n"
     ]
    },
    {
     "name": "stderr",
     "output_type": "stream",
     "text": [
      "2025/03/07 18:59:24 WARNING mlflow.models.model: Model logged without a signature and input example. Please set `input_example` parameter when logging the model to auto infer the model signature.\n"
     ]
    },
    {
     "name": "stdout",
     "output_type": "stream",
     "text": [
      "Model Random_Forest logged with AUCPR: 0.9723\n"
     ]
    },
    {
     "name": "stderr",
     "output_type": "stream",
     "text": [
      "2025/03/07 18:59:32 WARNING mlflow.models.model: Model logged without a signature and input example. Please set `input_example` parameter when logging the model to auto infer the model signature.\n"
     ]
    },
    {
     "name": "stdout",
     "output_type": "stream",
     "text": [
      "Model XGBoost logged with AUCPR: 0.9471\n"
     ]
    }
   ],
   "source": [
    "import mlflow\n",
    "import mlflow.sklearn\n",
    "from sklearn.linear_model import LogisticRegression\n",
    "from sklearn.ensemble import RandomForestClassifier\n",
    "import xgboost as xgb\n",
    "from sklearn.metrics import average_precision_score\n",
    "\n",
    "# Set up MLflow\n",
    "mlflow.set_tracking_uri(\"file:///AML_Project/mlruns\")  # Local tracking\n",
    "mlflow.set_experiment(\"SMS_Spam_Classification\")\n",
    "\n",
    "# List of models\n",
    "models = {\n",
    "    \"Logistic_Regression\": LogisticRegression(),\n",
    "    \"Random_Forest\": RandomForestClassifier(n_estimators=100, random_state=42),\n",
    "    \"XGBoost\": xgb.XGBClassifier(eval_metric=\"logloss\")\n",
    "}\n",
    "\n",
    "# Dictionary to store Run IDs\n",
    "run_ids = {}\n",
    "\n",
    "# Train and log models\n",
    "for model_name, model in models.items():\n",
    "    with mlflow.start_run():\n",
    "        # Train the model\n",
    "        model.fit(X_train, y_train)\n",
    "\n",
    "        # Get predictions and calculate AUCPR\n",
    "        y_probs = model.predict_proba(X_test)[:, 1]\n",
    "        aucpr = average_precision_score(y_test, y_probs)\n",
    "\n",
    "        # Log parameters and metrics\n",
    "        mlflow.log_param(\"model_type\", model_name)\n",
    "        mlflow.log_metric(\"AUCPR\", aucpr)\n",
    "\n",
    "        # Log the model\n",
    "        mlflow.sklearn.log_model(model, model_name)\n",
    "\n",
    "        # Store Run ID\n",
    "        run_ids[model_name] = mlflow.active_run().info.run_id\n",
    "\n",
    "        print(f\"Model {model_name} logged with AUCPR: {aucpr:.4f}\")"
   ]
  },
  {
   "cell_type": "code",
   "execution_count": 3,
   "metadata": {},
   "outputs": [
    {
     "name": "stdout",
     "output_type": "stream",
     "text": [
      "Loaded Model Logistic_Regression (Run ID: 37d9ba332ec54e75a33bceb1ca31734e) -> AUCPR: 0.9585\n",
      "Loaded Model Random_Forest (Run ID: 45ff8afdbea947589ea28a7b2ac46785) -> AUCPR: 0.9723\n",
      "Loaded Model XGBoost (Run ID: 1c805ceac792478cb209f660a18a3fd4) -> AUCPR: 0.9471\n"
     ]
    }
   ],
   "source": [
    "for model_name, run_id in run_ids.items():\n",
    "    # Load the model\n",
    "    model_uri = f\"runs:/{run_id}/{model_name}\"\n",
    "    loaded_model = mlflow.sklearn.load_model(model_uri)\n",
    "\n",
    "    # Evaluate the model\n",
    "    y_probs = loaded_model.predict_proba(X_test)[:, 1]\n",
    "    aucpr = average_precision_score(y_test, y_probs)\n",
    "\n",
    "    print(f\"Loaded Model {model_name} (Run ID: {run_id}) -> AUCPR: {aucpr:.4f}\")"
   ]
  },
  {
   "cell_type": "markdown",
   "metadata": {},
   "source": [
    "\n",
    "\n",
    "In this notebook, we performed the following steps to train machine learning models and track experiments:\n",
    "\n",
    "### **1. Loading and Preprocessing the Data**\n",
    "- The training and test datasets (`train.csv` and `test.csv`) were loaded using `pandas`.\n",
    "- The target variable (`Label`) was encoded:\n",
    "  - `ham` → \\( 0 \\)\n",
    "  - `spam` → \\( 1 \\)\n",
    "- The text data (`Message`) was converted into numerical features using **TF-IDF Vectorization**:\n",
    "  - The `TfidfVectorizer` from `scikit-learn` was used to create a sparse matrix of TF-IDF features.\n",
    "  - The maximum number of features was set to 5000.\n",
    "\n",
    "### **2. Training Machine Learning Models**\n",
    "- Three machine learning models were trained:\n",
    "  1. **Logistic Regression**:\n",
    "     - A linear model for binary classification.\n",
    "  2. **Random Forest**:\n",
    "     - An ensemble model using 100 decision trees.\n",
    "  3. **XGBoost**:\n",
    "     - A gradient boosting model optimized for performance.\n",
    "\n",
    "### **3. Tracking Experiments with MLflow**\n",
    "- **MLflow** was used to track experiments and log:\n",
    "  - **Parameters**: Model type (e.g., `Logistic_Regression`).\n",
    "  - **Metrics**: AUCPR (Area Under the Precision-Recall Curve).\n",
    "  - **Artifacts**: Trained models.\n",
    "- The experiments were stored in a local directory (`mlruns`).\n",
    "\n",
    "### **4. Evaluating Model Performance**\n",
    "- The models were evaluated using the **AUCPR** metric:\n",
    "  - **Logistic Regression**: AUCPR = 0.9585\n",
    "  - **Random Forest**: AUCPR = 0.9723\n",
    "  - **XGBoost**: AUCPR = 0.9471\n",
    "- The **Random Forest** model performed the best with the highest AUCPR.\n",
    "\n",
    "### **5. Loading and Re-evaluating Models**\n",
    "- The trained models were loaded using MLflow and re-evaluated on the test set to ensure consistency.\n",
    "\n",
    "### **Key Takeaways**\n",
    "- The **Random Forest** model achieved the best performance on the test set.\n",
    "- Using MLflow allowed us to track experiments, log metrics, and store models for reproducibility.\n",
    "- The trained models can now be deployed for inference or further fine-tuning.\n",
    "\n",
    "---\n",
    "\n",
    "This concludes the model training and experiment tracking process. The trained models are now ready for deployment or further analysis."
   ]
  },
  {
   "cell_type": "code",
   "execution_count": null,
   "metadata": {},
   "outputs": [],
   "source": [
    "\n"
   ]
  }
 ],
 "metadata": {
  "kernelspec": {
   "display_name": "Python 3",
   "language": "python",
   "name": "python3"
  },
  "language_info": {
   "codemirror_mode": {
    "name": "ipython",
    "version": 3
   },
   "file_extension": ".py",
   "mimetype": "text/x-python",
   "name": "python",
   "nbconvert_exporter": "python",
   "pygments_lexer": "ipython3",
   "version": "3.11.9"
  }
 },
 "nbformat": 4,
 "nbformat_minor": 2
}
