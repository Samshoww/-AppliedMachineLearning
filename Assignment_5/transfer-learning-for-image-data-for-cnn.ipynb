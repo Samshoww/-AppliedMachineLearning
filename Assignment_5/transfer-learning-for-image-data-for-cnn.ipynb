{
 "cells": [
  {
   "cell_type": "markdown",
   "metadata": {},
   "source": [
    "# Imports"
   ]
  },
  {
   "cell_type": "code",
   "execution_count": 27,
   "metadata": {},
   "outputs": [],
   "source": [
    "import os, sys, random, time, copy, glob\n",
    "\n",
    "import numpy as np\n",
    "import pandas as pd\n",
    "import matplotlib.pyplot as plt\n",
    "\n",
    "import torch\n",
    "import torch.optim as optim\n",
    "import torch.nn as nn\n",
    "import torch.nn.functional as F\n",
    "\n",
    "import lightning as L\n",
    "\n",
    "from torch.utils.data import DataLoader, Dataset\n",
    "from torchvision.models import resnet18, ResNet18_Weights\n",
    "from torchvision import transforms\n",
    "\n",
    "from torchmetrics.aggregation import RunningMean\n",
    "\n",
    "from sklearn.metrics import classification_report, accuracy_score\n",
    "from sklearn.metrics import roc_auc_score, f1_score\n",
    "from sklearn.model_selection import train_test_split\n",
    "\n",
    "from torchinfo import summary\n",
    "\n",
    "from PIL import Image\n",
    "\n",
    "import warnings\n",
    "\n",
    "import matplotlib.pyplot as plt\n",
    "import seaborn as sns\n",
    "\n",
    "warnings.filterwarnings(\"ignore\")"
   ]
  },
  {
   "cell_type": "code",
   "execution_count": 2,
   "metadata": {},
   "outputs": [],
   "source": [
    "os.chdir(\"applied-ml-assignment-5/src\")"
   ]
  },
  {
   "cell_type": "markdown",
   "metadata": {},
   "source": [
    "# Setting up the data"
   ]
  },
  {
   "cell_type": "code",
   "execution_count": 3,
   "metadata": {},
   "outputs": [],
   "source": [
    "CHICKEN_IMAGES_PATH = \"../data/chicken/data\"\n",
    "DUCK_IMAGES_PATH = \"../data/duck/data\""
   ]
  },
  {
   "cell_type": "code",
   "execution_count": 4,
   "metadata": {},
   "outputs": [],
   "source": [
    "def create_annotations_file(paths: list[str]):\n",
    "    # training dataset\n",
    "    train = pd.DataFrame(columns=[\"path\", \"class\"])\n",
    "    for path in paths:\n",
    "        full_path = os.path.join(path, \"train\")\n",
    "        image_names = [f\"{path}/train/{_}\" for _ in os.listdir(full_path)[:100]]\n",
    "        label = path.split(\"/\")[2]\n",
    "        temp = pd.DataFrame({\"path\": image_names, \"class\": label})\n",
    "        train = pd.concat([train, temp])\n",
    "\n",
    "    # validation dataset\n",
    "    val = pd.DataFrame(columns=[\"path\", \"class\"])\n",
    "    for path in paths:\n",
    "        full_path = os.path.join(path, \"val\")\n",
    "        image_names = [f\"{path}/val/{_}\" for _ in os.listdir(full_path)[:50]]\n",
    "        label = path.split(\"/\")[2]\n",
    "        temp = pd.DataFrame({\"path\": image_names, \"class\": label})\n",
    "        val = pd.concat([val, temp])\n",
    "\n",
    "    # test dataset\n",
    "    test = pd.DataFrame(columns=[\"path\", \"class\"])\n",
    "    for path in paths:\n",
    "        full_path = os.path.join(path, \"test\")\n",
    "        image_names = [f\"{path}/test/{_}\" for _ in os.listdir(full_path)[:100]]\n",
    "        label = path.split(\"/\")[2]\n",
    "        temp = pd.DataFrame({\"path\": image_names, \"class\": label})\n",
    "        test = pd.concat([test, temp])\n",
    "\n",
    "    train = train.reset_index(drop=True)\n",
    "    val = val.reset_index(drop=True)\n",
    "    test = test.reset_index(drop=True)\n",
    "\n",
    "    return train, val, test\n",
    "\n",
    "\n",
    "train, val, test = create_annotations_file([CHICKEN_IMAGES_PATH, DUCK_IMAGES_PATH])"
   ]
  },
  {
   "cell_type": "markdown",
   "metadata": {},
   "source": [
    "Next we will create the dataset"
   ]
  },
  {
   "cell_type": "code",
   "execution_count": 5,
   "metadata": {},
   "outputs": [],
   "source": [
    "class ChickenOrDuck(Dataset):\n",
    "\n",
    "    def __init__(\n",
    "        self, annotations_file, transforms=transforms.Compose([transforms.ToTensor()])\n",
    "    ):\n",
    "        super().__init__()\n",
    "        self.annotations_file = annotations_file\n",
    "        self.transforms = transforms\n",
    "\n",
    "    def __getitem__(self, index):\n",
    "        image_path = self.annotations_file.loc[index, \"path\"]\n",
    "        image_class = self.annotations_file.loc[index, \"class\"]\n",
    "        image_label = 1 if image_class == \"chicken\" else 0\n",
    "\n",
    "        image = Image.open(image_path).convert(\"RGB\")\n",
    "        image = image.resize((128, 128))\n",
    "        image = self.transforms(image)\n",
    "\n",
    "        return image, image_label\n",
    "\n",
    "    def __len__(self):\n",
    "        return len(self.annotations_file)"
   ]
  },
  {
   "cell_type": "code",
   "execution_count": 6,
   "metadata": {},
   "outputs": [],
   "source": [
    "mean, std = [0.485, 0.456, 0.406], [0.229, 0.224, 0.225]\n",
    "image_transforms = {\n",
    "    \"train\": transforms.Compose(\n",
    "        [\n",
    "            transforms.RandomHorizontalFlip(),\n",
    "            transforms.RandomVerticalFlip(),\n",
    "            transforms.ColorJitter(brightness=0.2, contrast=0.2),\n",
    "            transforms.ToTensor(),\n",
    "            transforms.Normalize(mean=mean, std=std),\n",
    "        ]\n",
    "    ),\n",
    "    \"val\": transforms.Compose(\n",
    "        [\n",
    "            transforms.ToTensor(),\n",
    "            transforms.Normalize(mean=mean, std=std),\n",
    "        ]\n",
    "    ),\n",
    "}\n",
    "\n",
    "train_dataset = ChickenOrDuck(train, image_transforms[\"train\"])\n",
    "val_dataset = ChickenOrDuck(val, image_transforms[\"val\"])\n",
    "test_dataset = ChickenOrDuck(test, image_transforms[\"val\"])"
   ]
  },
  {
   "cell_type": "markdown",
   "metadata": {},
   "source": [
    "## Training Hyperparameters"
   ]
  },
  {
   "cell_type": "code",
   "execution_count": 7,
   "metadata": {},
   "outputs": [],
   "source": [
    "BATCH_SIZE = 20\n",
    "LR = 2e-3\n",
    "DEVICE = \"cuda\" if torch.cuda.is_available() else \"cpu\""
   ]
  },
  {
   "cell_type": "code",
   "execution_count": 8,
   "metadata": {},
   "outputs": [],
   "source": [
    "train_dataloader = DataLoader(train_dataset, batch_size=BATCH_SIZE, shuffle=True)\n",
    "val_dataloader = DataLoader(val_dataset, batch_size=BATCH_SIZE, shuffle=True)"
   ]
  },
  {
   "cell_type": "code",
   "execution_count": 12,
   "metadata": {},
   "outputs": [],
   "source": [
    "train_running_metric = RunningMean(window=5)\n",
    "val_running_metric = RunningMean(window=5)\n",
    "\n",
    "training_loss = []\n",
    "training_acc = []\n",
    "val_loss = []\n",
    "val_acc = []\n",
    "\n",
    "\n",
    "class ImagenetTransferLearning(L.LightningModule):\n",
    "    def __init__(self):\n",
    "        super().__init__()\n",
    "\n",
    "        backbone = resnet18(ResNet18_Weights.IMAGENET1K_V1)\n",
    "        layers = list(backbone.children())\n",
    "        num_in = backbone.fc.in_features\n",
    "        num_target_classes = 2\n",
    "        layers[-1] = nn.Sequential(\n",
    "            *[nn.Flatten(), nn.Linear(num_in, num_target_classes)]\n",
    "        )\n",
    "        # self.full_model = nn.Sequential(*layers)\n",
    "        self.classifier = layers[-1]\n",
    "        self.feature_extractor = nn.Sequential(*layers[:-1])\n",
    "\n",
    "    def forward(self, x):\n",
    "        with torch.no_grad():\n",
    "            representations = self.feature_extractor(x)\n",
    "        x = self.classifier(representations)\n",
    "        return torch.argmax(x, dim=-1)\n",
    "\n",
    "    def training_step(self, batch, batch_idx, datalaoder_idx=None):\n",
    "        x, y = batch\n",
    "        with torch.no_grad():\n",
    "            representations = self.feature_extractor(x)\n",
    "        x = self.classifier(representations)\n",
    "        loss = F.cross_entropy(x, y)\n",
    "        pred = torch.argmax(x, dim=1).cpu().numpy()\n",
    "        true = y.cpu().numpy()\n",
    "        _ = train_running_metric(accuracy_score(true, pred) * 100)\n",
    "        accuracy = train_running_metric.compute()\n",
    "        self.log(\"train_loss\", loss, prog_bar=True)\n",
    "        self.log(\"train acc\", accuracy, prog_bar=True)\n",
    "        training_loss.append(loss.cpu().item())\n",
    "        training_acc.append(accuracy.cpu().item())\n",
    "        return loss\n",
    "\n",
    "    def configure_optimizers(self):\n",
    "        optimizer = optim.Adam(\n",
    "            params=filter(lambda p: p.requires_grad, self.classifier.parameters()),\n",
    "            lr=LR,\n",
    "        )\n",
    "        return optimizer\n",
    "\n",
    "    def validation_step(self, batch, batch_idx, dataloader_idx=None):\n",
    "        x, y = batch\n",
    "        x = self.feature_extractor(x)\n",
    "        x = self.classifier(x)\n",
    "        loss = F.cross_entropy(x, y)\n",
    "        pred = torch.argmax(x, dim=1).cpu().numpy()\n",
    "        true = y.cpu().numpy()\n",
    "        _ = val_running_metric(accuracy_score(true, pred) * 100)\n",
    "        accuracy = val_running_metric.compute()\n",
    "        val_loss.append(loss.cpu().item())\n",
    "        val_acc.append(accuracy.cpu().item())\n",
    "        self.log(\"validation\", loss, prog_bar=True)\n",
    "        self.log(\"validation acc\", accuracy, prog_bar=True)"
   ]
  },
  {
   "cell_type": "code",
   "execution_count": 15,
   "metadata": {},
   "outputs": [
    {
     "name": "stderr",
     "output_type": "stream",
     "text": [
      "GPU available: False, used: False\n",
      "TPU available: False, using: 0 TPU cores\n",
      "IPU available: False, using: 0 IPUs\n",
      "HPU available: False, using: 0 HPUs\n",
      "\n",
      "  | Name              | Type       | Params\n",
      "-------------------------------------------------\n",
      "0 | classifier        | Sequential | 1.0 K \n",
      "1 | feature_extractor | Sequential | 11.2 M\n",
      "-------------------------------------------------\n",
      "11.2 M    Trainable params\n",
      "0         Non-trainable params\n",
      "11.2 M    Total params\n",
      "44.710    Total estimated model params size (MB)\n"
     ]
    },
    {
     "data": {
      "application/vnd.jupyter.widget-view+json": {
       "model_id": "68cb320508a443c1a0cd13096bf5bf78",
       "version_major": 2,
       "version_minor": 0
      },
      "text/plain": [
       "Sanity Checking: |          | 0/? [00:00<?, ?it/s]"
      ]
     },
     "metadata": {},
     "output_type": "display_data"
    },
    {
     "data": {
      "application/vnd.jupyter.widget-view+json": {
       "model_id": "de66f712c56e4efdae79da27d9b602b6",
       "version_major": 2,
       "version_minor": 0
      },
      "text/plain": [
       "Training: |          | 0/? [00:00<?, ?it/s]"
      ]
     },
     "metadata": {},
     "output_type": "display_data"
    },
    {
     "data": {
      "application/vnd.jupyter.widget-view+json": {
       "model_id": "8eafca5f3cf147c08c4fc7203ba4ac8c",
       "version_major": 2,
       "version_minor": 0
      },
      "text/plain": [
       "Validation: |          | 0/? [00:00<?, ?it/s]"
      ]
     },
     "metadata": {},
     "output_type": "display_data"
    },
    {
     "data": {
      "application/vnd.jupyter.widget-view+json": {
       "model_id": "0d27b0951d654a119035e812ab1a3071",
       "version_major": 2,
       "version_minor": 0
      },
      "text/plain": [
       "Validation: |          | 0/? [00:00<?, ?it/s]"
      ]
     },
     "metadata": {},
     "output_type": "display_data"
    },
    {
     "data": {
      "application/vnd.jupyter.widget-view+json": {
       "model_id": "3c9c86a2ba4748ea902261c5de139348",
       "version_major": 2,
       "version_minor": 0
      },
      "text/plain": [
       "Validation: |          | 0/? [00:00<?, ?it/s]"
      ]
     },
     "metadata": {},
     "output_type": "display_data"
    },
    {
     "data": {
      "application/vnd.jupyter.widget-view+json": {
       "model_id": "8ff8a0b9416746229d1ecec25d0ef717",
       "version_major": 2,
       "version_minor": 0
      },
      "text/plain": [
       "Validation: |          | 0/? [00:00<?, ?it/s]"
      ]
     },
     "metadata": {},
     "output_type": "display_data"
    },
    {
     "data": {
      "application/vnd.jupyter.widget-view+json": {
       "model_id": "58c02bae6e484280affc88c583314af1",
       "version_major": 2,
       "version_minor": 0
      },
      "text/plain": [
       "Validation: |          | 0/? [00:00<?, ?it/s]"
      ]
     },
     "metadata": {},
     "output_type": "display_data"
    },
    {
     "data": {
      "application/vnd.jupyter.widget-view+json": {
       "model_id": "bda06da62eed443cbaea9e6f2d66a3cb",
       "version_major": 2,
       "version_minor": 0
      },
      "text/plain": [
       "Validation: |          | 0/? [00:00<?, ?it/s]"
      ]
     },
     "metadata": {},
     "output_type": "display_data"
    },
    {
     "data": {
      "application/vnd.jupyter.widget-view+json": {
       "model_id": "b5921dd8f9534180b73ecbdb7306a1eb",
       "version_major": 2,
       "version_minor": 0
      },
      "text/plain": [
       "Validation: |          | 0/? [00:00<?, ?it/s]"
      ]
     },
     "metadata": {},
     "output_type": "display_data"
    },
    {
     "data": {
      "application/vnd.jupyter.widget-view+json": {
       "model_id": "820f812cdc424775a9d09e024abd007e",
       "version_major": 2,
       "version_minor": 0
      },
      "text/plain": [
       "Validation: |          | 0/? [00:00<?, ?it/s]"
      ]
     },
     "metadata": {},
     "output_type": "display_data"
    },
    {
     "data": {
      "application/vnd.jupyter.widget-view+json": {
       "model_id": "ae4c83c0182148f3b8ab9fe64cd6a57a",
       "version_major": 2,
       "version_minor": 0
      },
      "text/plain": [
       "Validation: |          | 0/? [00:00<?, ?it/s]"
      ]
     },
     "metadata": {},
     "output_type": "display_data"
    },
    {
     "data": {
      "application/vnd.jupyter.widget-view+json": {
       "model_id": "897e2cd00b944514a115d6727c02ca82",
       "version_major": 2,
       "version_minor": 0
      },
      "text/plain": [
       "Validation: |          | 0/? [00:00<?, ?it/s]"
      ]
     },
     "metadata": {},
     "output_type": "display_data"
    },
    {
     "data": {
      "application/vnd.jupyter.widget-view+json": {
       "model_id": "4b2107a063c84693bb2a7ff6b78ccef9",
       "version_major": 2,
       "version_minor": 0
      },
      "text/plain": [
       "Validation: |          | 0/? [00:00<?, ?it/s]"
      ]
     },
     "metadata": {},
     "output_type": "display_data"
    },
    {
     "data": {
      "application/vnd.jupyter.widget-view+json": {
       "model_id": "3e2f3f1288bb4b70863d62a713d28213",
       "version_major": 2,
       "version_minor": 0
      },
      "text/plain": [
       "Validation: |          | 0/? [00:00<?, ?it/s]"
      ]
     },
     "metadata": {},
     "output_type": "display_data"
    },
    {
     "data": {
      "application/vnd.jupyter.widget-view+json": {
       "model_id": "1f27e498e9fa4ade9568db1aeb598133",
       "version_major": 2,
       "version_minor": 0
      },
      "text/plain": [
       "Validation: |          | 0/? [00:00<?, ?it/s]"
      ]
     },
     "metadata": {},
     "output_type": "display_data"
    },
    {
     "data": {
      "application/vnd.jupyter.widget-view+json": {
       "model_id": "41d14ee55f36487cb656b0803f07953a",
       "version_major": 2,
       "version_minor": 0
      },
      "text/plain": [
       "Validation: |          | 0/? [00:00<?, ?it/s]"
      ]
     },
     "metadata": {},
     "output_type": "display_data"
    },
    {
     "data": {
      "application/vnd.jupyter.widget-view+json": {
       "model_id": "69cdc18a2a3b446994daafb9c859064f",
       "version_major": 2,
       "version_minor": 0
      },
      "text/plain": [
       "Validation: |          | 0/? [00:00<?, ?it/s]"
      ]
     },
     "metadata": {},
     "output_type": "display_data"
    },
    {
     "data": {
      "application/vnd.jupyter.widget-view+json": {
       "model_id": "022552c547414065b33c66a3727c096e",
       "version_major": 2,
       "version_minor": 0
      },
      "text/plain": [
       "Validation: |          | 0/? [00:00<?, ?it/s]"
      ]
     },
     "metadata": {},
     "output_type": "display_data"
    },
    {
     "data": {
      "application/vnd.jupyter.widget-view+json": {
       "model_id": "2ffff90965de47eb8d4d2c744272e6cd",
       "version_major": 2,
       "version_minor": 0
      },
      "text/plain": [
       "Validation: |          | 0/? [00:00<?, ?it/s]"
      ]
     },
     "metadata": {},
     "output_type": "display_data"
    },
    {
     "data": {
      "application/vnd.jupyter.widget-view+json": {
       "model_id": "05c60bf2095245ac910fbba9752a1466",
       "version_major": 2,
       "version_minor": 0
      },
      "text/plain": [
       "Validation: |          | 0/? [00:00<?, ?it/s]"
      ]
     },
     "metadata": {},
     "output_type": "display_data"
    },
    {
     "data": {
      "application/vnd.jupyter.widget-view+json": {
       "model_id": "535487fff12d4b35b820b667180a5d47",
       "version_major": 2,
       "version_minor": 0
      },
      "text/plain": [
       "Validation: |          | 0/? [00:00<?, ?it/s]"
      ]
     },
     "metadata": {},
     "output_type": "display_data"
    },
    {
     "data": {
      "application/vnd.jupyter.widget-view+json": {
       "model_id": "1619dce32ad54fe0a81ef59a7b187e3f",
       "version_major": 2,
       "version_minor": 0
      },
      "text/plain": [
       "Validation: |          | 0/? [00:00<?, ?it/s]"
      ]
     },
     "metadata": {},
     "output_type": "display_data"
    },
    {
     "data": {
      "application/vnd.jupyter.widget-view+json": {
       "model_id": "9d4aa9381ca94fc19fd154e3ac9ca053",
       "version_major": 2,
       "version_minor": 0
      },
      "text/plain": [
       "Validation: |          | 0/? [00:00<?, ?it/s]"
      ]
     },
     "metadata": {},
     "output_type": "display_data"
    },
    {
     "data": {
      "application/vnd.jupyter.widget-view+json": {
       "model_id": "badeebe7335540519c24703e5207a875",
       "version_major": 2,
       "version_minor": 0
      },
      "text/plain": [
       "Validation: |          | 0/? [00:00<?, ?it/s]"
      ]
     },
     "metadata": {},
     "output_type": "display_data"
    },
    {
     "data": {
      "application/vnd.jupyter.widget-view+json": {
       "model_id": "13ff6d858a1a4d6297cb5c716b620f3b",
       "version_major": 2,
       "version_minor": 0
      },
      "text/plain": [
       "Validation: |          | 0/? [00:00<?, ?it/s]"
      ]
     },
     "metadata": {},
     "output_type": "display_data"
    },
    {
     "data": {
      "application/vnd.jupyter.widget-view+json": {
       "model_id": "de657bb382184bd8842c62ce79170170",
       "version_major": 2,
       "version_minor": 0
      },
      "text/plain": [
       "Validation: |          | 0/? [00:00<?, ?it/s]"
      ]
     },
     "metadata": {},
     "output_type": "display_data"
    },
    {
     "data": {
      "application/vnd.jupyter.widget-view+json": {
       "model_id": "7fce5b677ab7429c89248709e38cb951",
       "version_major": 2,
       "version_minor": 0
      },
      "text/plain": [
       "Validation: |          | 0/? [00:00<?, ?it/s]"
      ]
     },
     "metadata": {},
     "output_type": "display_data"
    },
    {
     "name": "stderr",
     "output_type": "stream",
     "text": [
      "`Trainer.fit` stopped: `max_epochs=25` reached.\n"
     ]
    }
   ],
   "source": [
    "model = ImagenetTransferLearning()\n",
    "trainer = L.Trainer(\n",
    "    max_epochs=25,\n",
    ")\n",
    "trainer.fit(model, train_dataloader, val_dataloader)"
   ]
  },
  {
   "cell_type": "markdown",
   "metadata": {},
   "source": [
    "After training we see that we get training accuracy of 94% and validation accuracy opf 86% "
   ]
  },
  {
   "cell_type": "markdown",
   "metadata": {},
   "source": [
    "# Classification results"
   ]
  },
  {
   "cell_type": "code",
   "execution_count": 32,
   "metadata": {},
   "outputs": [
    {
     "name": "stdout",
     "output_type": "stream",
     "text": [
      "              precision    recall  f1-score   support\n",
      "\n",
      "        duck       0.92      0.92      0.92       100\n",
      "     chicken       0.92      0.92      0.92       100\n",
      "\n",
      "    accuracy                           0.92       200\n",
      "   macro avg       0.92      0.92      0.92       200\n",
      "weighted avg       0.92      0.92      0.92       200\n",
      "\n"
     ]
    }
   ],
   "source": [
    "test_dataloader = DataLoader(test_dataset, batch_size=len(test_dataset), shuffle=True)\n",
    "for x, y in test_dataloader:\n",
    "    pred = model(x)\n",
    "    print(classification_report(y_true=y, y_pred=pred, target_names=[\"duck\", \"chicken\"]))"
   ]
  },
  {
   "cell_type": "markdown",
   "metadata": {},
   "source": [
    "## Visualising the results"
   ]
  },
  {
   "cell_type": "code",
   "execution_count": 29,
   "metadata": {},
   "outputs": [
    {
     "data": {
      "image/png": "[encoded data removed]",
      "text/plain": [
       "<Figure size 1500x500 with 2 Axes>"
      ]
     },
     "metadata": {},
     "output_type": "display_data"
    }
   ],
   "source": [
    "fig, axs = plt.subplots(nrows=1, ncols=2, figsize=(15, 5))\n",
    "sns.lineplot(\n",
    "    x=np.arange(1, 26, 1), \n",
    "    y=np.mean(\n",
    "        np.array(training_loss).reshape(-1, 10), \n",
    "        axis=1\n",
    "    ), \n",
    "    label=\"Training loss\", \n",
    "    ax=axs[0]\n",
    ")\n",
    "sns.lineplot(\n",
    "    x=np.arange(1, 26, 1), \n",
    "    y=np.mean(\n",
    "        np.array(val_loss[2:]).reshape(-1, 5), \n",
    "        axis=1\n",
    "    ), \n",
    "    label=\"Validation loss\", \n",
    "    ax=axs[0]\n",
    ")\n",
    "axs[0].set_title(\"Loss vs epochs\")\n",
    "axs[0].set_xlabel(\"Epochs\")\n",
    "axs[0].set_ylabel(\"Loss\")\n",
    "\n",
    "sns.lineplot(\n",
    "    x=np.arange(1, 26, 1), \n",
    "    y=np.mean(\n",
    "        np.array(training_acc).reshape(-1, 10), \n",
    "        axis=1\n",
    "    ), \n",
    "    label=\"Training accuracy\", \n",
    "    ax=axs[1]\n",
    ")\n",
    "sns.lineplot(\n",
    "    x=np.arange(1, 26, 1), \n",
    "    y=np.mean(\n",
    "        np.array(val_acc[2:]).reshape(-1, 5), \n",
    "        axis=1\n",
    "    ), \n",
    "    label=\"Validation accuracy\", \n",
    "    ax=axs[1]\n",
    ")\n",
    "axs[1].set_title(\"Validation accuracy vs epochs\")\n",
    "axs[1].set_xlabel(\"Epochs\")\n",
    "axs[1].set_ylabel(\"Accuracy\")\n",
    "\n",
    "plt.legend()\n",
    "plt.tight_layout()\n",
    "axs[0].grid(visible=True, which=\"major\", axis=\"both\", ls=(5, (5, 7)), alpha=0.7)\n",
    "axs[1].grid(visible=True, which=\"major\", axis=\"both\", ls=(5, (5, 7)), alpha=0.7)\n",
    "plt.show()"
   ]
  },
  {
   "cell_type": "code",
   "execution_count": null,
   "metadata": {},
   "outputs": [],
   "source": []
  }
 ],
 "metadata": {
  "kernelspec": {
   "display_name": "cloudspace",
   "language": "python",
   "name": "python3"
  },
  "language_info": {
   "codemirror_mode": {
    "name": "ipython",
    "version": 3
   },
   "file_extension": ".py",
   "mimetype": "text/x-python",
   "name": "python",
   "nbconvert_exporter": "python",
   "pygments_lexer": "ipython3",
   "version": "3.10.14"
  }
 },
 "nbformat": 4,
 "nbformat_minor": 2
}
