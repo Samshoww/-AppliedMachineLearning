{
 "cells": [
  {
   "cell_type": "code",
   "execution_count": 1,
   "metadata": {},
   "outputs": [
    {
     "name": "stdout",
     "output_type": "stream",
     "text": [
      "Defaulting to user installation because normal site-packages is not writeable\n",
      "Requirement already satisfied: pytest in c:\\users\\samar\\appdata\\roaming\\python\\python311\\site-packages (8.3.5)\n",
      "Requirement already satisfied: pytest-cov in c:\\users\\samar\\appdata\\roaming\\python\\python311\\site-packages (6.1.1)\n",
      "Requirement already satisfied: flask in c:\\users\\samar\\appdata\\roaming\\python\\python311\\site-packages (3.1.0)\n",
      "Requirement already satisfied: colorama in c:\\users\\samar\\appdata\\roaming\\python\\python311\\site-packages (from pytest) (0.4.6)\n",
      "Requirement already satisfied: iniconfig in c:\\users\\samar\\appdata\\roaming\\python\\python311\\site-packages (from pytest) (2.1.0)\n",
      "Requirement already satisfied: packaging in c:\\users\\samar\\appdata\\roaming\\python\\python311\\site-packages (from pytest) (23.2)\n",
      "Requirement already satisfied: pluggy<2,>=1.5 in c:\\users\\samar\\appdata\\roaming\\python\\python311\\site-packages (from pytest) (1.5.0)\n",
      "Requirement already satisfied: coverage>=7.5 in c:\\users\\samar\\appdata\\roaming\\python\\python311\\site-packages (from coverage[toml]>=7.5->pytest-cov) (7.8.0)\n",
      "Requirement already satisfied: Werkzeug>=3.1 in c:\\users\\samar\\appdata\\roaming\\python\\python311\\site-packages (from flask) (3.1.3)\n",
      "Requirement already satisfied: Jinja2>=3.1.2 in c:\\users\\samar\\appdata\\roaming\\python\\python311\\site-packages (from flask) (3.1.6)\n",
      "Requirement already satisfied: itsdangerous>=2.2 in c:\\users\\samar\\appdata\\roaming\\python\\python311\\site-packages (from flask) (2.2.0)\n",
      "Requirement already satisfied: click>=8.1.3 in c:\\users\\samar\\appdata\\roaming\\python\\python311\\site-packages (from flask) (8.1.8)\n",
      "Requirement already satisfied: blinker>=1.9 in c:\\users\\samar\\appdata\\roaming\\python\\python311\\site-packages (from flask) (1.9.0)\n",
      "Requirement already satisfied: MarkupSafe>=2.0 in c:\\users\\samar\\appdata\\roaming\\python\\python311\\site-packages (from Jinja2>=3.1.2->flask) (2.1.5)\n"
     ]
    },
    {
     "name": "stderr",
     "output_type": "stream",
     "text": [
      "\n",
      "[notice] A new release of pip is available: 24.0 -> 25.0.1\n",
      "[notice] To update, run: python.exe -m pip install --upgrade pip\n"
     ]
    }
   ],
   "source": [
    "# Install pytest and coverage tools\n",
    "!pip install pytest pytest-cov flask"
   ]
  },
  {
   "cell_type": "code",
   "execution_count": 2,
   "metadata": {},
   "outputs": [
    {
     "name": "stdout",
     "output_type": "stream",
     "text": [
      "Python version: 3.11.9 (tags/v3.11.9:de54cf5, Apr  2 2024, 10:12:12) [MSC v.1938 64 bit (AMD64)]\n",
      "Kernel restarted successfully\n"
     ]
    }
   ],
   "source": [
    "import sys\n",
    "print(\"Python version:\", sys.version)\n",
    "print(\"Kernel restarted successfully\")"
   ]
  },
  {
   "cell_type": "code",
   "execution_count": null,
   "metadata": {},
   "outputs": [],
   "source": [
    "!pytest --cov=./ --cov-report=term-missing test.py > coverage.txt\n",
    "\n",
    "# Display results\n",
    "with open(\"coverage.txt\", \"r\") as f:\n",
    "    print(f.read())"
   ]
  },
  {
   "cell_type": "code",
   "execution_count": 3,
   "metadata": {},
   "outputs": [
    {
     "name": "stdout",
     "output_type": "stream",
     "text": [
      "✅ Model loaded successfully\n",
      "Model type: <class 'sklearn.svm._classes.SVC'>\n"
     ]
    }
   ],
   "source": [
    "import joblib\n",
    "\n",
    "try:\n",
    "    model = joblib.load(\"models/best_model.joblib\")\n",
    "    print(\"✅ Model loaded successfully\")\n",
    "    print(\"Model type:\", type(model))\n",
    "except Exception as e:\n",
    "    print(\"❌ Model loading failed:\", str(e))"
   ]
  },
  {
   "cell_type": "code",
   "execution_count": null,
   "metadata": {},
   "outputs": [
    {
     "name": "stdout",
     "output_type": "stream",
     "text": [
      "Flask health check: 404\n",
      "Error: Expecting value: line 1 column 1 (char 0)\n"
     ]
    }
   ],
   "source": [
    "import subprocess\n",
    "import time\n",
    "import requests\n",
    "\n",
    "# Launch Flask in separate process\n",
    "flask_cmd = \"from app import app; app.run(port=5000)\"\n",
    "flask_process = subprocess.Popen(\n",
    "    [sys.executable, \"-c\", flask_cmd],\n",
    "    stdout=subprocess.PIPE,\n",
    "    stderr=subprocess.PIPE\n",
    ")\n",
    "time.sleep(5)  # Extended wait time\n",
    "\n",
    "try:\n",
    "    # Simple GET test first\n",
    "    health_check = requests.get(\"http://localhost:5000\", timeout=5)\n",
    "    print(\"Flask health check:\", health_check.status_code)\n",
    "    \n",
    "    # POST test\n",
    "    response = requests.post(\n",
    "        \"http://localhost:5000/score\",\n",
    "        json={\"text\": \"Free money\"},\n",
    "        timeout=5\n",
    "    )\n",
    "    print(\"API Response:\", response.json())\n",
    "    \n",
    "except Exception as e:\n",
    "    print(\"Error:\", str(e))\n",
    "    print(\"Flask logs:\", flask_process.stderr.read().decode())\n",
    "    \n",
    "finally:\n",
    "    flask_process.terminate()"
   ]
  }
 ],
 "metadata": {
  "kernelspec": {
   "display_name": "Python 3",
   "language": "python",
   "name": "python3"
  },
  "language_info": {
   "codemirror_mode": {
    "name": "ipython",
    "version": 3
   },
   "file_extension": ".py",
   "mimetype": "text/x-python",
   "name": "python",
   "nbconvert_exporter": "python",
   "pygments_lexer": "ipython3",
   "version": "3.11.9"
  }
 },
 "nbformat": 4,
 "nbformat_minor": 2
}
