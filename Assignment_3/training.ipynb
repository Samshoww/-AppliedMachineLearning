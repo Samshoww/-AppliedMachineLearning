{
 "cells": [
  {
   "cell_type": "code",
   "execution_count": 1,
   "metadata": {},
   "outputs": [
    {
     "name": "stdout",
     "output_type": "stream",
     "text": [
      "   label                                            message\n",
      "0      0                                          guy close\n",
      "1      0  please come imin towndontmatter urgoin outlrju...\n",
      "2      0                          ok ksry knw sivatats askd\n",
      "3      0                                ill see prolly yeah\n",
      "4      0        ill see swing bit got thing take care firsg\n",
      "\n",
      "✅ Data Loaded: Train (4457), Val (557), Test (558)\n"
     ]
    }
   ],
   "source": [
    "# General Libraries\n",
    "import os\n",
    "import pandas as pd\n",
    "import joblib\n",
    "\n",
    "# Machine Learning Libraries\n",
    "from sklearn.svm import SVC\n",
    "from sklearn.feature_extraction.text import TfidfVectorizer\n",
    "from sklearn.pipeline import Pipeline\n",
    "from sklearn.naive_bayes import MultinomialNB\n",
    "from sklearn.linear_model import LogisticRegression\n",
    "from sklearn.metrics import accuracy_score, classification_report\n",
    "from sklearn.model_selection import GridSearchCV\n",
    "\n",
    "# Load datasets (using local paths)\n",
    "data_dir = \"./data_splits\"  # Same directory where you saved splits\n",
    "train_df = pd.read_csv(os.path.join(data_dir, \"train.csv\"))\n",
    "val_df = pd.read_csv(os.path.join(data_dir, \"validation.csv\"))\n",
    "test_df = pd.read_csv(os.path.join(data_dir, \"test.csv\"))\n",
    "\n",
    "# Verify data\n",
    "print(train_df.head())\n",
    "print(f\"\\n✅ Data Loaded: Train ({len(train_df)}), Val ({len(val_df)}), Test ({len(test_df)})\")"
   ]
  },
  {
   "cell_type": "code",
   "execution_count": 2,
   "metadata": {},
   "outputs": [
    {
     "name": "stdout",
     "output_type": "stream",
     "text": [
      "✅ TF-IDF Vectorizer saved\n"
     ]
    }
   ],
   "source": [
    "# Handle missing values\n",
    "train_df['message'] = train_df['message'].fillna(\"\")\n",
    "val_df['message'] = val_df['message'].fillna(\"\")\n",
    "test_df['message'] = test_df['message'].fillna(\"\")\n",
    "\n",
    "# ====== 3. Initialize and Save Vectorizer ======\n",
    "vectorizer = TfidfVectorizer(stop_words='english', max_features=5000)\n",
    "X_train = vectorizer.fit_transform(train_df['message'])\n",
    "X_val = vectorizer.transform(val_df['message'])\n",
    "X_test = vectorizer.transform(test_df['message'])\n",
    "\n",
    "y_train = train_df['label']\n",
    "y_val = val_df['label']\n",
    "y_test = test_df['label']\n",
    "\n",
    "# Save vectorizer separately\n",
    "os.makedirs(\"models\", exist_ok=True)\n",
    "joblib.dump(vectorizer, \"models/tfidf_vectorizer.joblib\")\n",
    "print(\"✅ TF-IDF Vectorizer saved\")"
   ]
  },
  {
   "cell_type": "code",
   "execution_count": 3,
   "metadata": {},
   "outputs": [
    {
     "name": "stdout",
     "output_type": "stream",
     "text": [
      "Naive Bayes: Val Accuracy = 0.9659\n",
      "Logistic Regression: Val Accuracy = 0.9605\n",
      "SVM: Val Accuracy = 0.9838\n",
      "\n",
      "🏆 Best Model: SVM (Accuracy: 0.9838)\n"
     ]
    }
   ],
   "source": [
    "# ====== 4. Model Training ======\n",
    "def train_models(X_train, y_train, X_val, y_val):\n",
    "    models = {\n",
    "        \"Naive Bayes\": MultinomialNB(),\n",
    "        \"Logistic Regression\": LogisticRegression(max_iter=1000),\n",
    "        \"SVM\": SVC(kernel='linear', probability=True)\n",
    "    }\n",
    "    \n",
    "    best_score = -1\n",
    "    best_model = None\n",
    "    \n",
    "    for name, model in models.items():\n",
    "        model.fit(X_train, y_train)\n",
    "        val_acc = accuracy_score(y_val, model.predict(X_val))\n",
    "        print(f\"{name}: Val Accuracy = {val_acc:.4f}\")\n",
    "        \n",
    "        if val_acc > best_score:\n",
    "            best_score = val_acc\n",
    "            best_model = model\n",
    "            best_name = name\n",
    "    \n",
    "    print(f\"\\n🏆 Best Model: {best_name} (Accuracy: {best_score:.4f})\")\n",
    "    return best_model, best_name\n",
    "\n",
    "best_model, best_name = train_models(X_train, y_train, X_val, y_val)"
   ]
  },
  {
   "cell_type": "code",
   "execution_count": 4,
   "metadata": {},
   "outputs": [
    {
     "name": "stdout",
     "output_type": "stream",
     "text": [
      "Best params: {'C': 10}\n"
     ]
    }
   ],
   "source": [
    "# ====== 5. Hyperparameter Tuning ======\n",
    "if best_name == \"SVM\":\n",
    "    param_grid = {'C': [0.1, 1, 10]}\n",
    "    grid_search = GridSearchCV(best_model, param_grid, cv=5)\n",
    "    grid_search.fit(X_train, y_train)\n",
    "    best_model = grid_search.best_estimator_\n",
    "    print(f\"Best params: {grid_search.best_params_}\")"
   ]
  },
  {
   "cell_type": "code",
   "execution_count": 5,
   "metadata": {},
   "outputs": [
    {
     "name": "stdout",
     "output_type": "stream",
     "text": [
      "\n",
      "📊 Final Test Performance:\n",
      "              precision    recall  f1-score   support\n",
      "\n",
      "           0       0.98      0.98      0.98       483\n",
      "           1       0.89      0.89      0.89        75\n",
      "\n",
      "    accuracy                           0.97       558\n",
      "   macro avg       0.94      0.94      0.94       558\n",
      "weighted avg       0.97      0.97      0.97       558\n",
      "\n",
      "Test Accuracy: 0.9713\n"
     ]
    }
   ],
   "source": [
    "# ====== 6. Evaluation ======\n",
    "test_preds = best_model.predict(X_test)\n",
    "print(\"\\n📊 Final Test Performance:\")\n",
    "print(classification_report(y_test, test_preds))\n",
    "print(f\"Test Accuracy: {accuracy_score(y_test, test_preds):.4f}\")\n"
   ]
  },
  {
   "cell_type": "code",
   "execution_count": 6,
   "metadata": {},
   "outputs": [
    {
     "name": "stdout",
     "output_type": "stream",
     "text": [
      "✅ Model saved at: models/best_model.joblib\n"
     ]
    }
   ],
   "source": [
    "# ====== 7. Save Model ======\n",
    "joblib.dump(best_model, \"models/best_model.joblib\")\n",
    "print(\"✅ Model saved at: models/best_model.joblib\")\n"
   ]
  },
  {
   "cell_type": "code",
   "execution_count": null,
   "metadata": {},
   "outputs": [
    {
     "name": "stdout",
     "output_type": "stream",
     "text": [
      "\n",
      "🔍 Verifying saved files:\n",
      "['best_model.joblib', 'tfidf_vectorizer.joblib']\n"
     ]
    },
    {
     "ename": "",
     "evalue": "",
     "output_type": "error",
     "traceback": [
      "\u001b[1;31mThe Kernel crashed while executing code in the current cell or a previous cell. \n",
      "\u001b[1;31mPlease review the code in the cell(s) to identify a possible cause of the failure. \n",
      "\u001b[1;31mClick <a href='https://aka.ms/vscodeJupyterKernelCrash'>here</a> for more info. \n",
      "\u001b[1;31mView Jupyter <a href='command:jupyter.viewOutput'>log</a> for further details."
     ]
    }
   ],
   "source": [
    "# ====== 8. Verification ======\n",
    "print(\"\\n🔍 Verifying saved files:\")\n",
    "print(os.listdir(\"models\"))"
   ]
  }
 ],
 "metadata": {
  "kernelspec": {
   "display_name": "Python 3",
   "language": "python",
   "name": "python3"
  },
  "language_info": {
   "codemirror_mode": {
    "name": "ipython",
    "version": 3
   },
   "file_extension": ".py",
   "mimetype": "text/x-python",
   "name": "python",
   "nbconvert_exporter": "python",
   "pygments_lexer": "ipython3",
   "version": "3.11.9"
  }
 },
 "nbformat": 4,
 "nbformat_minor": 2
}
